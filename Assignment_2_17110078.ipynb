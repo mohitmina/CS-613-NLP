{
 "cells": [
  {
   "cell_type": "markdown",
   "metadata": {},
   "source": [
    "# Assignment 2"
   ]
  },
  {
   "cell_type": "markdown",
   "metadata": {},
   "source": [
    "Reading the text and using sentence tokenizer"
   ]
  },
  {
   "cell_type": "code",
   "execution_count": 172,
   "metadata": {},
   "outputs": [
    {
     "name": "stdout",
     "output_type": "stream",
     "text": [
      "12601\n"
     ]
    }
   ],
   "source": [
    "import re\n",
    "with open(\"C:/Users/Mohit Mina/Downloads/speeches.txt\",\"r\",encoding=\"utf-8\") as file:\n",
    "    text=file.read()\n",
    "    text=text.lower()\n",
    "    text=re.sub('\\n','',text)\n",
    "from nltk.tokenize import sent_tokenize\n",
    "text = sent_tokenize(text)\n",
    "print(len(text))\n"
   ]
  },
  {
   "cell_type": "code",
   "execution_count": 173,
   "metadata": {},
   "outputs": [
    {
     "name": "stdout",
     "output_type": "stream",
     "text": [
      "10080\n",
      "2521\n"
     ]
    }
   ],
   "source": [
    "from sklearn.model_selection import train_test_split\n",
    "train, test = train_test_split(text, test_size = 0.2)\n",
    "\n",
    "print(len(train))\n",
    "print(len(test))\n"
   ]
  },
  {
   "cell_type": "code",
   "execution_count": 174,
   "metadata": {},
   "outputs": [
    {
     "name": "stdout",
     "output_type": "stream",
     "text": [
      "10080\n"
     ]
    }
   ],
   "source": [
    "import string\n",
    "train_set=[]\n",
    "for i in train:\n",
    "    i = re.sub(r'[^\\w\\s]','',i)\n",
    "    train_set.append(i)\n",
    "print(len(train_set))\n",
    "        "
   ]
  },
  {
   "cell_type": "code",
   "execution_count": 175,
   "metadata": {},
   "outputs": [],
   "source": [
    "import nltk\n",
    "from nltk import word_tokenize\n",
    "tokens=[]\n",
    "for i in range(len(train_set)):\n",
    "    tokens.append('<s>')\n",
    "    tokens_of_sent=word_tokenize(train_set[i])\n",
    "    for j in range(len(tokens_of_sent)):\n",
    "        tokens.append(tokens_of_sent[j])\n",
    "    tokens.append('</s>')\n"
   ]
  },
  {
   "cell_type": "code",
   "execution_count": 176,
   "metadata": {},
   "outputs": [],
   "source": [
    "from collections import Counter\n",
    "from nltk.util import ngrams\n",
    "unigram=tokens\n"
   ]
  },
  {
   "cell_type": "code",
   "execution_count": 128,
   "metadata": {},
   "outputs": [
    {
     "name": "stdout",
     "output_type": "stream",
     "text": [
      "number of possible unigrams =  149771\n",
      "actual number of unigrams = 149771\n",
      "number of possible bigrams =  22431352441\n",
      "actual number of bigrams = 149770\n",
      "number of possible trigrams =  3359566086441011\n",
      "actual number of trigrams = 149769\n",
      "number of possible quadgrams =  503165572332356658481\n",
      "actual number of quadgrams = 149768\n"
     ]
    }
   ],
   "source": [
    "c_unigram=len(unigram)\n",
    "bigrams = list(nltk.bigrams(tokens))\n",
    "trigrams = list(nltk.trigrams(tokens))\n",
    "quadgrams = list(ngrams(tokens,4))\n",
    "print(\"number of possible unigrams = \",c_unigram)\n",
    "print(\"actual number of unigrams =\",c_unigram)\n",
    "\n",
    "print(\"number of possible bigrams = \",c_unigram**2)\n",
    "print(\"actual number of bigrams =\",len(bigrams))\n",
    "\n",
    "print(\"number of possible trigrams = \",c_unigram**3)\n",
    "print(\"actual number of trigrams =\",len(trigrams))\n",
    "\n",
    "print(\"number of possible quadgrams = \",c_unigram**4)\n",
    "print(\"actual number of quadgrams =\",len(quadgrams))"
   ]
  },
  {
   "cell_type": "code",
   "execution_count": 129,
   "metadata": {},
   "outputs": [
    {
     "name": "stdout",
     "output_type": "stream",
     "text": [
      "0.0019496431218326644\n"
     ]
    }
   ],
   "source": [
    "def MLE_unigrams(word):\n",
    "    prob=unigram.count(word)/(c_unigram)\n",
    "    return prob\n",
    "print(MLE_unigrams('look'))"
   ]
  },
  {
   "cell_type": "code",
   "execution_count": 130,
   "metadata": {},
   "outputs": [
    {
     "name": "stdout",
     "output_type": "stream",
     "text": [
      "0.0010787486515641855\n"
     ]
    }
   ],
   "source": [
    "def MLE_bigrams(word):\n",
    "    prob=bigrams.count(word)/(unigram.count(word[0]))\n",
    "    return prob\n",
    "print(MLE_bigrams(('be','elected')))"
   ]
  },
  {
   "cell_type": "code",
   "execution_count": 131,
   "metadata": {},
   "outputs": [
    {
     "name": "stdout",
     "output_type": "stream",
     "text": [
      "0.1\n"
     ]
    }
   ],
   "source": [
    "def MLE_trigrams(word):\n",
    "    prob=trigrams.count(word)/(bigrams.count(word[:2]))\n",
    "    return prob\n",
    "print(MLE_trigrams(('shouldnt','have','done')))"
   ]
  },
  {
   "cell_type": "code",
   "execution_count": 132,
   "metadata": {},
   "outputs": [
    {
     "name": "stdout",
     "output_type": "stream",
     "text": [
      "0.6666666666666666\n"
     ]
    }
   ],
   "source": [
    "def MLE_quadgrams(word):\n",
    "    prob=quadgrams.count(word)/(trigrams.count(word[:3]))\n",
    "    return prob\n",
    "print(MLE_quadgrams(('way','its','going','to')))"
   ]
  },
  {
   "cell_type": "code",
   "execution_count": null,
   "metadata": {},
   "outputs": [],
   "source": [
    "import numpy as np\n",
    "\n",
    "def bigrams_generator():\n",
    "    list_=[]\n",
    "    sentence=\"<s>\"\n",
    "    start='<s>'\n",
    "    while(1):\n",
    "        for i in bigrams:\n",
    "            if i[0]==start:\n",
    "                list_.append(i)\n",
    "        prob_list=[MLE_bigrams(i) for i in list_]\n",
    "        sum_of_prob=sum(prob_list)\n",
    "        prob_list=[i/sum_of_prob for i in prob_list]          #prob(i)/sum of prob \n",
    "        ans = list(np.random.multinomial(1,prob_list))\n",
    "        ind = np.argmax(ans)\n",
    "        new_word = list_[ind][1]\n",
    "        sentence=sentence+\" \"+new_word\n",
    "        if (new_word=='</s>'):\n",
    "            break\n",
    "        else:\n",
    "            start = new_word\n",
    "    return sentence"
   ]
  },
  {
   "cell_type": "code",
   "execution_count": 171,
   "metadata": {},
   "outputs": [],
   "source": [
    "def generate(k):\n",
    "    if k==1:\n",
    "        return bigrams_generator()\n",
    "    elif k==2:\n",
    "        return trigrams_generator()\n",
    "    elif k==3:\n",
    "        return quadgrams_generator()\n",
    "    else:\n",
    "        return \"Model no. not valid\""
   ]
  },
  {
   "cell_type": "code",
   "execution_count": 177,
   "metadata": {},
   "outputs": [
    {
     "name": "stdout",
     "output_type": "stream",
     "text": [
      "2521\n"
     ]
    }
   ],
   "source": [
    "import string\n",
    "test_set=[]\n",
    "for i in test:\n",
    "    i = re.sub(r'[^\\w\\s]','',i)\n",
    "    test_set.append(i)\n",
    "print(len(test_set))\n",
    "  "
   ]
  },
  {
   "cell_type": "code",
   "execution_count": 178,
   "metadata": {},
   "outputs": [],
   "source": [
    "import nltk\n",
    "from nltk import word_tokenize\n",
    "tokens=[]\n",
    "for i in range(len(train_set)):\n",
    "    tokens.append('<s>')\n",
    "    tokens_of_sent=word_tokenize(train_set[i])\n",
    "    for j in range(len(tokens_of_sent)):\n",
    "        tokens.append(tokens_of_sent[j])\n",
    "    tokens.append('</s>')\n"
   ]
  },
  {
   "cell_type": "markdown",
   "metadata": {},
   "source": [
    "# Perplexity"
   ]
  },
  {
   "cell_type": "code",
   "execution_count": 168,
   "metadata": {},
   "outputs": [],
   "source": [
    "import math\n",
    "def log_prob(sentence,k):\n",
    "    prob=0\n",
    "    if k == 0:\n",
    "        prob = 0\n",
    "        for i in range(len(sentence)):\n",
    "            try:\n",
    "                prob += math.log(MLE_unigrams(sentence[i]))\n",
    "            except:\n",
    "                continue\n",
    "        return prob\n",
    "    elif k == 1:\n",
    "        try:\n",
    "            prob = math.log(MLE_unigrams(sentence[0]))\n",
    "        except:\n",
    "            pass\n",
    "        for i in range(len(sentence)-1):\n",
    "            try:\n",
    "                prob += math.log(MLE_bigrams(sentence[i:i+2]))\n",
    "            except:\n",
    "                continue\n",
    "        return prob\n",
    "    \n",
    "    elif k == 2:\n",
    "        try:    \n",
    "            prob = math.log(MLE_unigrams(sentence[0]))+math.log(MLE_bigrams(sentence[0:2]))\n",
    "        except:\n",
    "            pass\n",
    "        for i in range(len(sentence)-2):\n",
    "            try:\n",
    "                prob += math.log(MLE_trigrams(sentence[i:i+3]))\n",
    "            except:\n",
    "                continue        \n",
    "        return prob\n",
    "    \n",
    "    elif k == 3:\n",
    "        try:    \n",
    "            prob = math.log(MLE_unigrams(sentence[0]))+math.log(MLE_bigrams(sentence[0:2]))+math.log(MLE_trigrams(sentence[0:3]))\n",
    "        except:\n",
    "            pass\n",
    "        for i in range(len(sentence)-3):\n",
    "            try:\n",
    "                prob += math.log(MLE_quadgrams(sentence[i:i+4]))\n",
    "            except:\n",
    "                continue\n",
    "        return prob\n"
   ]
  },
  {
   "cell_type": "code",
   "execution_count": 170,
   "metadata": {},
   "outputs": [],
   "source": [
    "perp = math.exp(-1*log_prob(test,3)/len(test))\n",
    "print (\"Perplexity : \",perp)"
   ]
  }
 ],
 "metadata": {
  "kernelspec": {
   "display_name": "Python 3",
   "language": "python",
   "name": "python3"
  },
  "language_info": {
   "codemirror_mode": {
    "name": "ipython",
    "version": 3
   },
   "file_extension": ".py",
   "mimetype": "text/x-python",
   "name": "python",
   "nbconvert_exporter": "python",
   "pygments_lexer": "ipython3",
   "version": "3.7.3"
  }
 },
 "nbformat": 4,
 "nbformat_minor": 2
}
